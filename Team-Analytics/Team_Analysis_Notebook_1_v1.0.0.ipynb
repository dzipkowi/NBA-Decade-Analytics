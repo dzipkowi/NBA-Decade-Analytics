{
  "nbformat": 4,
  "nbformat_minor": 0,
  "metadata": {
    "colab": {
      "name": "Team Analysis Notebook #1.ipynb",
      "provenance": [],
      "collapsed_sections": [],
      "authorship_tag": "ABX9TyNEO2hVnQ5vY73mh2a5IM4H",
      "include_colab_link": true
    },
    "kernelspec": {
      "name": "python3",
      "display_name": "Python 3"
    }
  },
  "cells": [
    {
      "cell_type": "markdown",
      "metadata": {
        "id": "view-in-github",
        "colab_type": "text"
      },
      "source": [
        "<a href=\"https://colab.research.google.com/github/dzipkowi/NBA-Decade-Analytics/blob/master/Team-Analytics/Team_Analysis_Notebook_1_v1.0.0.ipynb\" target=\"_parent\"><img src=\"https://colab.research.google.com/assets/colab-badge.svg\" alt=\"Open In Colab\"/></a>"
      ]
    },
    {
      "cell_type": "markdown",
      "metadata": {
        "id": "NyyOsKvX5gM8",
        "colab_type": "text"
      },
      "source": [
        "## In this Notebook, we are going to be using the Team History Dataset scraped from Basketball Reference. \n"
      ]
    },
    {
      "cell_type": "code",
      "metadata": {
        "id": "kTBLTrjA2HYi",
        "colab_type": "code",
        "colab": {}
      },
      "source": [
        "import sqlite3\n",
        "import pandas as pd\n",
        "import plotly.express as px\n",
        "\n",
        "conn = sqlite3.connect('/content/team_history.sqlite')\n",
        "df = pd.read_sql_query(\"SELECT * FROM TEAM_HISTORY\", conn)"
      ],
      "execution_count": 0,
      "outputs": []
    },
    {
      "cell_type": "code",
      "metadata": {
        "id": "tvKljOyy2JKx",
        "colab_type": "code",
        "colab": {
          "base_uri": "https://localhost:8080/",
          "height": 204
        },
        "outputId": "4bba78fa-0798-43ea-c2d7-36b25f7273a3"
      },
      "source": [
        "df.head()  "
      ],
      "execution_count": 2,
      "outputs": [
        {
          "output_type": "execute_result",
          "data": {
            "text/html": [
              "<div>\n",
              "<style scoped>\n",
              "    .dataframe tbody tr th:only-of-type {\n",
              "        vertical-align: middle;\n",
              "    }\n",
              "\n",
              "    .dataframe tbody tr th {\n",
              "        vertical-align: top;\n",
              "    }\n",
              "\n",
              "    .dataframe thead th {\n",
              "        text-align: right;\n",
              "    }\n",
              "</style>\n",
              "<table border=\"1\" class=\"dataframe\">\n",
              "  <thead>\n",
              "    <tr style=\"text-align: right;\">\n",
              "      <th></th>\n",
              "      <th>Rk</th>\n",
              "      <th>Age</th>\n",
              "      <th>W</th>\n",
              "      <th>L</th>\n",
              "      <th>PW</th>\n",
              "      <th>PL</th>\n",
              "      <th>MOV</th>\n",
              "      <th>SOS</th>\n",
              "      <th>SRS</th>\n",
              "      <th>ORtg</th>\n",
              "      <th>DRtg</th>\n",
              "      <th>NRtg</th>\n",
              "      <th>Pace</th>\n",
              "      <th>FTr</th>\n",
              "      <th>3PAr</th>\n",
              "      <th>TS%</th>\n",
              "      <th>Arena</th>\n",
              "      <th>Attend.</th>\n",
              "      <th>Attend./G</th>\n",
              "      <th>Year</th>\n",
              "    </tr>\n",
              "  </thead>\n",
              "  <tbody>\n",
              "    <tr>\n",
              "      <th>0</th>\n",
              "      <td>1.0</td>\n",
              "      <td>27.9</td>\n",
              "      <td>59.0</td>\n",
              "      <td>23.0</td>\n",
              "      <td>61</td>\n",
              "      <td>21</td>\n",
              "      <td>7.49</td>\n",
              "      <td>-0.37</td>\n",
              "      <td>7.12</td>\n",
              "      <td>111.4</td>\n",
              "      <td>103.3</td>\n",
              "      <td>8.1</td>\n",
              "      <td>92.0</td>\n",
              "      <td>0.340</td>\n",
              "      <td>0.350</td>\n",
              "      <td>0.573</td>\n",
              "      <td>Amway Arena</td>\n",
              "      <td>715901</td>\n",
              "      <td>17461</td>\n",
              "      <td>2010</td>\n",
              "    </tr>\n",
              "    <tr>\n",
              "      <th>1</th>\n",
              "      <td>2.0</td>\n",
              "      <td>28.0</td>\n",
              "      <td>61.0</td>\n",
              "      <td>21.0</td>\n",
              "      <td>59</td>\n",
              "      <td>23</td>\n",
              "      <td>6.52</td>\n",
              "      <td>-0.36</td>\n",
              "      <td>6.17</td>\n",
              "      <td>111.2</td>\n",
              "      <td>104.1</td>\n",
              "      <td>7.1</td>\n",
              "      <td>91.4</td>\n",
              "      <td>0.341</td>\n",
              "      <td>0.248</td>\n",
              "      <td>0.570</td>\n",
              "      <td>Quicken Loans Arena</td>\n",
              "      <td>843042</td>\n",
              "      <td>20562</td>\n",
              "      <td>2010</td>\n",
              "    </tr>\n",
              "    <tr>\n",
              "      <th>2</th>\n",
              "      <td>3.0</td>\n",
              "      <td>25.6</td>\n",
              "      <td>53.0</td>\n",
              "      <td>29.0</td>\n",
              "      <td>55</td>\n",
              "      <td>27</td>\n",
              "      <td>5.34</td>\n",
              "      <td>-0.01</td>\n",
              "      <td>5.33</td>\n",
              "      <td>110.7</td>\n",
              "      <td>105.0</td>\n",
              "      <td>5.7</td>\n",
              "      <td>93.8</td>\n",
              "      <td>0.340</td>\n",
              "      <td>0.184</td>\n",
              "      <td>0.565</td>\n",
              "      <td>EnergySolutions Arena</td>\n",
              "      <td>794512</td>\n",
              "      <td>19378</td>\n",
              "      <td>2010</td>\n",
              "    </tr>\n",
              "    <tr>\n",
              "      <th>3</th>\n",
              "      <td>4.0</td>\n",
              "      <td>28.7</td>\n",
              "      <td>50.0</td>\n",
              "      <td>32.0</td>\n",
              "      <td>55</td>\n",
              "      <td>27</td>\n",
              "      <td>5.09</td>\n",
              "      <td>-0.02</td>\n",
              "      <td>5.07</td>\n",
              "      <td>110.0</td>\n",
              "      <td>104.5</td>\n",
              "      <td>5.5</td>\n",
              "      <td>91.7</td>\n",
              "      <td>0.296</td>\n",
              "      <td>0.232</td>\n",
              "      <td>0.552</td>\n",
              "      <td>AT&amp;T Center</td>\n",
              "      <td>741676</td>\n",
              "      <td>18090</td>\n",
              "      <td>2010</td>\n",
              "    </tr>\n",
              "    <tr>\n",
              "      <th>4</th>\n",
              "      <td>5.0</td>\n",
              "      <td>28.4</td>\n",
              "      <td>57.0</td>\n",
              "      <td>25.0</td>\n",
              "      <td>54</td>\n",
              "      <td>28</td>\n",
              "      <td>4.72</td>\n",
              "      <td>0.06</td>\n",
              "      <td>4.78</td>\n",
              "      <td>108.8</td>\n",
              "      <td>103.7</td>\n",
              "      <td>5.1</td>\n",
              "      <td>92.8</td>\n",
              "      <td>0.289</td>\n",
              "      <td>0.227</td>\n",
              "      <td>0.538</td>\n",
              "      <td>STAPLES Center</td>\n",
              "      <td>778877</td>\n",
              "      <td>18997</td>\n",
              "      <td>2010</td>\n",
              "    </tr>\n",
              "  </tbody>\n",
              "</table>\n",
              "</div>"
            ],
            "text/plain": [
              "    Rk   Age     W     L  ...                  Arena  Attend.  Attend./G  Year\n",
              "0  1.0  27.9  59.0  23.0  ...            Amway Arena   715901      17461  2010\n",
              "1  2.0  28.0  61.0  21.0  ...    Quicken Loans Arena   843042      20562  2010\n",
              "2  3.0  25.6  53.0  29.0  ...  EnergySolutions Arena   794512      19378  2010\n",
              "3  4.0  28.7  50.0  32.0  ...            AT&T Center   741676      18090  2010\n",
              "4  5.0  28.4  57.0  25.0  ...         STAPLES Center   778877      18997  2010\n",
              "\n",
              "[5 rows x 20 columns]"
            ]
          },
          "metadata": {
            "tags": []
          },
          "execution_count": 2
        }
      ]
    },
    {
      "cell_type": "markdown",
      "metadata": {
        "id": "DhhD5QDV5e0N",
        "colab_type": "text"
      },
      "source": [
        "How has attendance changed over the past 10 years?"
      ]
    },
    {
      "cell_type": "code",
      "metadata": {
        "id": "CICGy9s75aJ0",
        "colab_type": "code",
        "colab": {
          "base_uri": "https://localhost:8080/",
          "height": 542
        },
        "cellView": "both",
        "outputId": "d6630c70-326f-4726-a496-95a6f764fa6c"
      },
      "source": [
        "#@title\n",
        "attendance_total = df[['Attend.', 'Year']]\n",
        "attendance_total = attendance_total.groupby(['Year']).sum()\n",
        "\n",
        "fig = px.line(attendance_total, x=attendance_total.index, y=\"Attend.\")\n",
        "\n",
        "fig.update_layout(template = 'presentation',\n",
        "     title=\"Total Attendance [2010-2020]\",\n",
        "    xaxis_title=\"Year\",\n",
        "    yaxis_title=\"Attendance\",\n",
        "    font=dict(\n",
        "        family=\"Computer Modern\",\n",
        "        size=18,\n",
        "        color=\"#7f7f7f\"),\n",
        "    annotations=[\n",
        "        dict(\n",
        "            x=2012,\n",
        "            y=18000000,\n",
        "            xref=\"x\",\n",
        "            yref=\"y\",\n",
        "            text=\"NBA Lockout\",\n",
        "            showarrow=True,\n",
        "            arrowhead=7,\n",
        "            ax=0,\n",
        "            ay=-130,\n",
        "            font = dict(size = 14)\n",
        "        )\n",
        "    ]\n",
        "    )\n",
        "\n",
        "fig"
      ],
      "execution_count": 7,
      "outputs": [
        {
          "output_type": "display_data",
          "data": {
            "text/html": [
              "<html>\n",
              "<head><meta charset=\"utf-8\" /></head>\n",
              "<body>\n",
              "    <div>\n",
              "            <script src=\"https://cdnjs.cloudflare.com/ajax/libs/mathjax/2.7.5/MathJax.js?config=TeX-AMS-MML_SVG\"></script><script type=\"text/javascript\">if (window.MathJax) {MathJax.Hub.Config({SVG: {font: \"STIX-Web\"}});}</script>\n",
              "                <script type=\"text/javascript\">window.PlotlyConfig = {MathJaxConfig: 'local'};</script>\n",
              "        <script src=\"https://cdn.plot.ly/plotly-latest.min.js\"></script>    \n",
              "            <div id=\"6cb89c30-e5fc-47e1-b778-f0bffa06bc61\" class=\"plotly-graph-div\" style=\"height:525px; width:100%;\"></div>\n",
              "            <script type=\"text/javascript\">\n",
              "                \n",
              "                    window.PLOTLYENV=window.PLOTLYENV || {};\n",
              "                    \n",
              "                if (document.getElementById(\"6cb89c30-e5fc-47e1-b778-f0bffa06bc61\")) {\n",
              "                    Plotly.newPlot(\n",
              "                        '6cb89c30-e5fc-47e1-b778-f0bffa06bc61',\n",
              "                        [{\"hoverlabel\": {\"namelength\": 0}, \"hovertemplate\": \"x=%{x}<br>Attend.=%{y}\", \"legendgroup\": \"\", \"line\": {\"color\": \"#636efa\", \"dash\": \"solid\"}, \"mode\": \"lines\", \"name\": \"\", \"showlegend\": false, \"type\": \"scatter\", \"x\": [\"2010\", \"2011\", \"2012\", \"2013\", \"2014\", \"2015\", \"2016\", \"2017\", \"2018\", \"2019\"], \"xaxis\": \"x\", \"y\": [21812444, 22017463, 17671086, 22030254, 22125124, 22626187, 22709213, 22730659, 22862043, 22696595], \"yaxis\": \"y\"}],\n",
              "                        {\"annotations\": [{\"arrowhead\": 7, \"ax\": 0, \"ay\": -130, \"font\": {\"size\": 14}, \"showarrow\": true, \"text\": \"NBA Lockout\", \"x\": 2012, \"xref\": \"x\", \"y\": 18000000, \"yref\": \"y\"}], \"font\": {\"color\": \"#7f7f7f\", \"family\": \"Computer Modern\", \"size\": 18}, \"legend\": {\"tracegroupgap\": 0}, \"margin\": {\"t\": 60}, \"template\": {\"data\": {\"pie\": [{\"automargin\": true, \"type\": \"pie\"}], \"scatter\": [{\"line\": {\"width\": 3}, \"marker\": {\"size\": 9}, \"type\": \"scatter\"}], \"scatter3d\": [{\"line\": {\"width\": 3}, \"marker\": {\"size\": 9}, \"type\": \"scatter3d\"}], \"scattergeo\": [{\"line\": {\"width\": 3}, \"marker\": {\"size\": 9}, \"type\": \"scattergeo\"}], \"scattergl\": [{\"line\": {\"width\": 3}, \"marker\": {\"size\": 9}, \"type\": \"scattergl\"}], \"scatterpolar\": [{\"line\": {\"width\": 3}, \"marker\": {\"size\": 9}, \"type\": \"scatterpolar\"}], \"scatterpolargl\": [{\"line\": {\"width\": 3}, \"marker\": {\"size\": 9}, \"type\": \"scatterpolargl\"}], \"scatterternary\": [{\"line\": {\"width\": 3}, \"marker\": {\"size\": 9}, \"type\": \"scatterternary\"}], \"table\": [{\"cells\": {\"height\": 30}, \"header\": {\"height\": 36}, \"type\": \"table\"}]}, \"layout\": {\"font\": {\"size\": 18}, \"xaxis\": {\"title\": {\"standoff\": 15}}, \"yaxis\": {\"title\": {\"standoff\": 15}}}}, \"title\": {\"text\": \"Total Attendance [2010-2020]\"}, \"xaxis\": {\"anchor\": \"y\", \"domain\": [0.0, 1.0], \"title\": {\"text\": \"Year\"}}, \"yaxis\": {\"anchor\": \"x\", \"domain\": [0.0, 1.0], \"title\": {\"text\": \"Attendance\"}}},\n",
              "                        {\"responsive\": true}\n",
              "                    ).then(function(){\n",
              "                            \n",
              "var gd = document.getElementById('6cb89c30-e5fc-47e1-b778-f0bffa06bc61');\n",
              "var x = new MutationObserver(function (mutations, observer) {{\n",
              "        var display = window.getComputedStyle(gd).display;\n",
              "        if (!display || display === 'none') {{\n",
              "            console.log([gd, 'removed!']);\n",
              "            Plotly.purge(gd);\n",
              "            observer.disconnect();\n",
              "        }}\n",
              "}});\n",
              "\n",
              "// Listen for the removal of the full notebook cells\n",
              "var notebookContainer = gd.closest('#notebook-container');\n",
              "if (notebookContainer) {{\n",
              "    x.observe(notebookContainer, {childList: true});\n",
              "}}\n",
              "\n",
              "// Listen for the clearing of the current output cell\n",
              "var outputEl = gd.closest('.output');\n",
              "if (outputEl) {{\n",
              "    x.observe(outputEl, {childList: true});\n",
              "}}\n",
              "\n",
              "                        })\n",
              "                };\n",
              "                \n",
              "            </script>\n",
              "        </div>\n",
              "</body>\n",
              "</html>"
            ]
          },
          "metadata": {
            "tags": []
          }
        }
      ]
    },
    {
      "cell_type": "code",
      "metadata": {
        "id": "VgsftO0w59JU",
        "colab_type": "code",
        "colab": {}
      },
      "source": [
        "import plotly.io as pio\n",
        "\n",
        "pio.write_html(fig, file='figure.html', auto_open=True)"
      ],
      "execution_count": 0,
      "outputs": []
    }
  ]
}